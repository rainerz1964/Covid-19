{
 "cells": [
  {
   "cell_type": "markdown",
   "metadata": {},
   "source": [
    "# Covid-19 Analysis Worldwide\n",
    "What we do\n",
    "1. Import Data from the ECDC\n",
    "2. Extend Data for Analysis\n",
    "3. Do some Analysis\n",
    "    1. Covid-19 Outbreak Comparison\n",
    "    2. Top X Countries in Covid-19 Cases\n",
    "    3. Top X Countries in Covid-19 Deaths\n",
    "    4. Top X Countries in Covid-19 Growth Rates\n",
    "    5. Covid-19 Growth Rates of Selected Countries\n",
    "    6. Growth Rates over Time for Selected Countries\n",
    "    7. Accumulated Cases over Time for Specific Countries\n",
    "    8. Deaths over Cases for Specific Countries"
   ]
  },
  {
   "cell_type": "code",
   "execution_count": null,
   "metadata": {},
   "outputs": [],
   "source": [
    "import requests\n",
    "from requests_ntlm import HttpNtlmAuth\n",
    "\n",
    "import pandas as pd\n",
    "from pandas.plotting import register_matplotlib_converters\n",
    "register_matplotlib_converters()\n",
    "\n",
    "import matplotlib.pyplot as plt\n",
    "import numpy as np"
   ]
  },
  {
   "cell_type": "markdown",
   "metadata": {},
   "source": [
    "## Import Data\n",
    "Data is imported from the ECDC (European Centre for Disease Prevention and Control - An Agency of the European Union)"
   ]
  },
  {
   "cell_type": "code",
   "execution_count": null,
   "metadata": {},
   "outputs": [],
   "source": [
    "from datetime import datetime, timedelta\n",
    "now =  datetime.now()\n",
    "yesterday = now - timedelta(days=1)"
   ]
  },
  {
   "cell_type": "code",
   "execution_count": null,
   "metadata": {},
   "outputs": [],
   "source": [
    "urlBase = \"https://www.ecdc.europa.eu/sites/default/files/documents/COVID-19-geographic-disbtribution-worldwide-\"\n",
    "fileDate = now.strftime (\"%Y-%m-%d\")\n",
    "url = urlBase + fileDate + \".xlsx\"\n",
    "r = requests.get (url, auth = HttpNtlmAuth(':',':'))\n",
    "if r.status_code != 200:\n",
    "    fileDate = yesterday.strftime(\"%Y-%m-%d\") \n",
    "    url = urlBase + fileDate + \".xlsx\" \n",
    "    r = requests.get (url, auth = HttpNtlmAuth(':',':'))\n",
    "if r.status_code == 200:\n",
    "    dataFileName = \"tmpfile-\" + fileDate + \".xlsx\"\n",
    "    dataFile = open (dataFileName, \"wb\")\n",
    "    n = dataFile.write (r.content)\n",
    "    dataFile.close()    \n",
    "\n",
    "print (\"Data loaded: \" + url)    \n",
    "print (\"File Date: \" + fileDate)\n"
   ]
  },
  {
   "cell_type": "code",
   "execution_count": null,
   "metadata": {
    "scrolled": false
   },
   "outputs": [],
   "source": [
    "df = pd.read_excel (dataFileName)\n",
    "print (\"Columns: \" + ', '.join(df.columns))"
   ]
  },
  {
   "cell_type": "code",
   "execution_count": null,
   "metadata": {
    "scrolled": false
   },
   "outputs": [],
   "source": [
    "df.set_axis ([\"DateRep\", \"day\", \"month\", \"year\", \n",
    "              \"Cases\", \"Deaths\", \"Countries and territories\", \n",
    "              \"GeoId\", \"countryterritoryCode\", \"popData2018\", \"continentExp\"], \n",
    "               axis = 1, inplace = True)\n",
    "analysisDate = df[\"DateRep\"].astype(str).max()\n",
    "print (\"Date Range: \" + \n",
    "       df[\"DateRep\"].astype(str).min() + \n",
    "       \", \" + analysisDate\n",
    "       )\n",
    "\n",
    "# do some data fixing\n",
    "i = 0\n",
    "for id in df[\"GeoId\"]:\n",
    "    if not isinstance (id, str):\n",
    "        df.at[i, \"GeoId\"] = df.loc[i, \"countryterritoryCode\"]\n",
    "    i = i + 1\n",
    "    \n",
    "unique = df[\"GeoId\"].unique()\n",
    "index = list(map (lambda x: isinstance (x, str), unique))\n",
    "unique = unique[index]\n",
    "uniqueCount = unique.size\n",
    "\n",
    "print (\"Number of Countries: \" + str(uniqueCount))\n",
    "print (\"Countries: \" + ', '.join(unique))"
   ]
  },
  {
   "cell_type": "markdown",
   "metadata": {},
   "source": [
    "## Prepare Data"
   ]
  },
  {
   "cell_type": "code",
   "execution_count": null,
   "metadata": {},
   "outputs": [],
   "source": [
    "df.set_index(\"GeoId\", inplace=True)"
   ]
  },
  {
   "cell_type": "code",
   "execution_count": null,
   "metadata": {},
   "outputs": [],
   "source": [
    "df.sort_values(by=[\"GeoId\", \"DateRep\"], inplace=True)"
   ]
  },
  {
   "cell_type": "code",
   "execution_count": null,
   "metadata": {},
   "outputs": [],
   "source": [
    "df[\"Accumulated Cases\"] = df.groupby([\"GeoId\"])[\"Cases\"].cumsum()\n",
    "df[\"Accumulated Deaths\"] = df.groupby([\"GeoId\"])[\"Deaths\"].cumsum()\n",
    "df[\"Growth Factor Cases\"] = 1 + df[\"Cases\"] / (df[\"Accumulated Cases\"] - df[\"Cases\"])\n",
    "df[\"Growth Factor Deaths\"] = 1 + df[\"Deaths\"] / (df[\"Accumulated Deaths\"] - df[\"Deaths\"])\n",
    "df[\"Time to Double\"] = np.log(2) / np.log(df[\"Growth Factor Cases\"])"
   ]
  },
  {
   "cell_type": "markdown",
   "metadata": {},
   "source": [
    "## Do some Analysis"
   ]
  },
  {
   "cell_type": "markdown",
   "metadata": {},
   "source": [
    "### Covid-19 Outbreak Comparison with Germany as Reference"
   ]
  },
  {
   "cell_type": "code",
   "execution_count": null,
   "metadata": {
    "scrolled": false
   },
   "outputs": [],
   "source": [
    "cases = np.concatenate((np.array([50, 100, 500, 1000]),\n",
    "                       np.arange (2500, 180000, 2500)))\n",
    "\n",
    "#plotCountries = [\"US\", \"IT\", \"FR\"]\n",
    "plotCountries = [\"US\", \"IT\", \"ES\", \"UK\", \"IN\"]\n",
    "\n",
    "dict = {}\n",
    "for i in cases:\n",
    "    index = df[\"Accumulated Cases\"] >= i\n",
    "    results = df[index].groupby ([\"GeoId\"])[\"DateRep\"].min()\n",
    "    dict[i] = results\n",
    "delta = {}\n",
    "\n",
    "m = len(cases)\n",
    "n = len(plotCountries)+2\n",
    "dfColumns = [\"Cases\", \"DEDate\"]\n",
    "dfColumns = dfColumns + plotCountries\n",
    "comparisonMatrix = pd.DataFrame (np.empty((m,n)),\n",
    "                                columns = dfColumns)\n",
    "i = 0\n",
    "for case in cases:\n",
    "    j = \"DE\"\n",
    "    comparisonMatrix.at [i, \"Cases\"] =  case\n",
    "    comparisonMatrix.at [i, \"DEDate\"] = dict[case][\"DE\"]\n",
    "    for k in plotCountries:\n",
    "        diff = dict[case][\"DE\"] - dict [case][k]\n",
    "        x = diff.days\n",
    "        comparisonMatrix.at [i, k] = x\n",
    "    i = i + 1\n",
    "    \n",
    "fig, ax = plt.subplots()\n",
    "fig.set_size_inches(10,5)\n",
    "for i in plotCountries:\n",
    "    ax.plot(comparisonMatrix[i], comparisonMatrix[\"Cases\"], label = i)\n",
    "ax.set_title (\"Covid-19 Outbreak Comparison with Germany in Accumulated Cases\")\n",
    "ax.set_axisbelow(True)\n",
    "#ax.minorticks_on()\n",
    "ax.grid(which='major', linestyle='-', linewidth='0.5', color='black')\n",
    "#ax.grid(which='minor', linestyle=':', linewidth='0.5', color='black')\n",
    "\n",
    "leg = ax.legend()\n"
   ]
  },
  {
   "cell_type": "markdown",
   "metadata": {},
   "source": [
    "### Top X Countries in Covid-19 Cases"
   ]
  },
  {
   "cell_type": "code",
   "execution_count": null,
   "metadata": {
    "scrolled": true
   },
   "outputs": [],
   "source": [
    "topX = 20\n",
    "topXCountriesInCases = (df.groupby([\"Countries and territories\"])[\"Cases\"].sum().\n",
    " sort_values(ascending = False).head(topX))\n",
    "countriesCases = topXCountriesInCases.keys()\n",
    "fig1, ax1 = plt.subplots()\n",
    "y_pos = np.arange(len(countriesCases))\n",
    "ax1.barh(y_pos, topXCountriesInCases)\n",
    "ax1.set_yticks(y_pos)\n",
    "ax1.set_yticklabels(countriesCases)\n",
    "ax1.set_title(\"Top \" + str(topX) + \" Countries in Covid-19 Cases on \" + analysisDate)\n",
    "\n",
    "plt.show()"
   ]
  },
  {
   "cell_type": "markdown",
   "metadata": {},
   "source": [
    "### Top X Countries in Covid-19 Deaths"
   ]
  },
  {
   "cell_type": "code",
   "execution_count": null,
   "metadata": {
    "scrolled": false
   },
   "outputs": [],
   "source": [
    "topX = 10\n",
    "topXCountriesInDeaths = (df.groupby([\"Countries and territories\"])[\"Deaths\"].sum().\n",
    " sort_values(ascending = False).head(topX))\n",
    "countriesDeaths = topXCountriesInDeaths.keys()\n",
    "fig2, ax2 = plt.subplots()\n",
    "y_pos = np.arange(len(countriesDeaths))\n",
    "ax2.barh(y_pos, topXCountriesInDeaths)\n",
    "ax2.set_yticks(y_pos)\n",
    "ax2.set_yticklabels(map(lambda a, b: a + \" (\" + str(b) + \")\", \n",
    "                        countriesDeaths, topXCountriesInDeaths))\n",
    "ax2.set_title(\"Top \" + str(topX) + \" Countries in Covid-19 Deaths on \" + analysisDate)\n",
    "\n",
    "plt.show()"
   ]
  },
  {
   "cell_type": "markdown",
   "metadata": {},
   "source": [
    "### Top X Countries in Covid-19 Growth Rates"
   ]
  },
  {
   "cell_type": "code",
   "execution_count": null,
   "metadata": {},
   "outputs": [],
   "source": [
    "threshhold = 500\n",
    "topX = 20\n",
    "topXCountriesGrowthFactor = (df.set_index(\"DateRep\").\n",
    "    loc[analysisDate].\n",
    "    loc[lambda df: df[\"Accumulated Cases\"] > threshhold].\n",
    "    sort_values(by=[\"Growth Factor Cases\"], \n",
    "                ascending = False)[[\"Countries and territories\", \n",
    "                                    \"Growth Factor Cases\", \"Accumulated Cases\"]].\n",
    "    head(topX))\n",
    "countriesGrowthFactor = topXCountriesGrowthFactor[\"Countries and territories\"]\n",
    "fig3, ax3 = plt.subplots()\n",
    "y_pos = np.arange(len(countriesGrowthFactor))\n",
    "ylabels = map (lambda a, b: a + \" (\" + str(b) + \")\", countriesGrowthFactor, topXCountriesGrowthFactor[\"Accumulated Cases\"])\n",
    "ax3.barh(y_pos, topXCountriesGrowthFactor[\"Growth Factor Cases\"])\n",
    "ax3.set_yticks(y_pos)\n",
    "ax3.set_xlim(0.9, 1.5)\n",
    "ax3.set_axisbelow(True)\n",
    "#ax3.minorticks_on()\n",
    "ax3.grid(which='major', linestyle='-', linewidth='0.5', color='black')\n",
    "#ax3.grid(which='minor', linestyle=':', linewidth='0.5', color='black')\n",
    "\n",
    "ax3.set_yticklabels(ylabels)\n",
    "ax3.set_title(\"Top \" + str(topX) + \" Countries in Covid-19 Growth Factor with more than \" + \n",
    "              str(threshhold) + \n",
    "              \" cases on \" + \n",
    "              analysisDate + \n",
    "              \" (Total Cases in Brackets)\")\n",
    "\n",
    "plt.show()"
   ]
  },
  {
   "cell_type": "markdown",
   "metadata": {},
   "source": [
    "### Covid-19 Growth Rates of Selected Countries"
   ]
  },
  {
   "cell_type": "code",
   "execution_count": null,
   "metadata": {},
   "outputs": [],
   "source": [
    "plotCountries = [\"DE\", \"US\", \"IT\", \"FR\", \"UK\", \"ES\", \"SE\",\"IN\"]\n",
    "countriesGrowthFactor = (df.loc[plotCountries].set_index(\"DateRep\").\n",
    "    loc[analysisDate].\n",
    "    sort_values(by=[\"Growth Factor Cases\"], ascending = False)[[\"Countries and territories\", \"Growth Factor Cases\", \"Accumulated Cases\"]])\n",
    "countries = countriesGrowthFactor[\"Countries and territories\"]\n",
    "fig4, ax4 = plt.subplots()\n",
    "y_pos = np.arange(len(countriesGrowthFactor))\n",
    "ylabels = map (lambda a, b: a + \" (\" + str(b) + \")\", countries, countriesGrowthFactor[\"Accumulated Cases\"])\n",
    "ax4.barh(y_pos, countriesGrowthFactor[\"Growth Factor Cases\"])\n",
    "ax4.set_yticks(y_pos)\n",
    "ax4.set_yticklabels(ylabels)\n",
    "ax4.set_axisbelow(True)\n",
    "ax4.minorticks_on()\n",
    "ax4.grid(which='major', linestyle='-', linewidth='0.5', color='black')\n",
    "ax4.grid(which='minor', linestyle=':', linewidth='0.5', color='black')\n",
    "\n",
    "ax4.set_xlim(0.9,1.2)\n",
    "ax4.set_title(\"Selected Countries in Covid-19 Growth Factor on \" + \n",
    "              analysisDate + \n",
    "              \" (Total Cases in Brackets)\")\n",
    "\n",
    "plt.show()"
   ]
  },
  {
   "cell_type": "markdown",
   "metadata": {},
   "source": [
    "### Growth Rates over Time for Selected Countries"
   ]
  },
  {
   "cell_type": "code",
   "execution_count": null,
   "metadata": {
    "scrolled": true
   },
   "outputs": [],
   "source": [
    "afterDate = df[\"DateRep\"] >= \"2020-03-01\" \n",
    "plotCountries = [\"DE\", \"US\", \"IT\", \"FR\", \"UK\", \"ES\"]\n",
    "#plotCountries = [\"DE\", \"US\"]\n",
    "plotData = [\"Time to Double\"]\n",
    "fig, ax = plt.subplots()\n",
    "fig.set_size_inches(10,5)\n",
    "for j in plotData:\n",
    "    for i in plotCountries:\n",
    "        ax.plot(df[afterDate].loc[i, \"DateRep\"], df[afterDate].loc[i, j], label = i + \": \" + j)\n",
    "ax.set_title (\"Covid-19 Analysis: \" + analysisDate)\n",
    "ax.set_ylim(0,60)\n",
    "ax.set_axisbelow(True)\n",
    "#ax.minorticks_on()\n",
    "ax.grid(which='major', linestyle='-', linewidth='0.5', color='black')\n",
    "#ax.grid(which='minor', linestyle=':', linewidth='0.5', color='black')\n",
    "\n",
    "leg = ax.legend()"
   ]
  },
  {
   "cell_type": "markdown",
   "metadata": {},
   "source": [
    "## Accumulated Cases over Time for Specific Countries"
   ]
  },
  {
   "cell_type": "code",
   "execution_count": null,
   "metadata": {
    "scrolled": true
   },
   "outputs": [],
   "source": [
    "afterDate = df[\"DateRep\"] >= \"2019-12-31\" \n",
    "plotCountries = [\"DE\", \"US\", \"IT\", \"FR\", \"UK\", \"ES\", \"SE\", \"IN\"]\n",
    "plotData = [\"Accumulated Cases\"]\n",
    "fig, ax = plt.subplots()\n",
    "fig.set_size_inches(10,5)\n",
    "for j in plotData:\n",
    "    for i in plotCountries:\n",
    "        ax.plot(df[afterDate].loc[i, \"DateRep\"], df[afterDate].loc[i, j], label = i + \": \" + j)\n",
    "ax.set_title (\"Covid-19 Analysis: \" + analysisDate)\n",
    "ax.set_axisbelow(True)\n",
    "#ax.minorticks_on()\n",
    "ax.grid(which='major', linestyle='-', linewidth='0.5', color='black')\n",
    "#ax.grid(which='minor', linestyle=':', linewidth='0.5', color='black')\n",
    "\n",
    "leg = ax.legend()"
   ]
  },
  {
   "cell_type": "markdown",
   "metadata": {},
   "source": [
    "## Deaths over Cases for Specific Countries"
   ]
  },
  {
   "cell_type": "code",
   "execution_count": null,
   "metadata": {
    "scrolled": false
   },
   "outputs": [],
   "source": [
    "plotCountries = [\"DE\", \"US\", \"IT\", \"FR\", \"UK\", \"ES\", \"SE\", \"BE\", \"CN\", \"NL\", \"IN\"]\n",
    "fig, ax = plt.subplots()\n",
    "fig.set_size_inches(10,5)\n",
    "for i in plotCountries:\n",
    "    ax.plot(df.loc[i, \"Accumulated Cases\"], df.loc[i ,\"Accumulated Deaths\"], label = i)\n",
    "ax.set_title (\"Covid-19 Analysis: Deaths over Cases\")\n",
    "ax.set_axisbelow(True)\n",
    "#ax.minorticks_on()\n",
    "ax.grid(which='major', linestyle='-', linewidth='0.5', color='black')\n",
    "#ax.grid(which='minor', linestyle=':', linewidth='0.5', color='black')\n",
    "leg = ax.legend()"
   ]
  },
  {
   "cell_type": "code",
   "execution_count": null,
   "metadata": {},
   "outputs": [],
   "source": []
  }
 ],
 "metadata": {
  "kernelspec": {
   "display_name": "Python 3",
   "language": "python",
   "name": "python3"
  },
  "language_info": {
   "codemirror_mode": {
    "name": "ipython",
    "version": 3
   },
   "file_extension": ".py",
   "mimetype": "text/x-python",
   "name": "python",
   "nbconvert_exporter": "python",
   "pygments_lexer": "ipython3",
   "version": "3.8.2"
  }
 },
 "nbformat": 4,
 "nbformat_minor": 2
}
