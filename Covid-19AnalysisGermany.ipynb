{
 "cells": [
  {
   "cell_type": "markdown",
   "metadata": {},
   "source": [
    "# Covid-19 Analysis Germany\n",
    "What we do\n",
    "1. Import Data \n",
    "2. Do some Analysis"
   ]
  },
  {
   "cell_type": "code",
   "execution_count": null,
   "metadata": {},
   "outputs": [],
   "source": [
    "\n",
    "import requests\n",
    "from requests_ntlm import HttpNtlmAuth\n",
    "\n",
    "import json\n",
    "import geojson as gj\n",
    "\n",
    "# Standard plotly imports\n",
    "import plotly.graph_objs as go\n",
    "import plotly.express as px\n",
    "from plotly.offline import iplot, init_notebook_mode\n",
    "# Using plotly + cufflinks in offline mode\n",
    "import cufflinks\n",
    "cufflinks.go_offline(connected=True)\n",
    "init_notebook_mode(connected=True)\n",
    "\n",
    "import numpy as np\n",
    "\n",
    "import pandas as pd\n",
    "from pandas.plotting import register_matplotlib_converters\n",
    "register_matplotlib_converters()\n",
    "\n",
    "from datetime import datetime\n",
    "\n"
   ]
  },
  {
   "cell_type": "markdown",
   "metadata": {},
   "source": [
    "## Import Data\n",
    "Data is imported from NPGEO Corona https://npgeo-corona-npgeo-de.hub.arcgis.com/datasets/917fc37a709542548cc3be077a786c17_0\n",
    "    1. This is the service with an aggregated statistics per Landkreis and area boundaries https://services7.arcgis.com/mOBPykOjAyBO2ZKk/arcgis/rest/services/RKI_Landkreisdaten/FeatureServer/0/query?where=1%3D1&outFields=*&returnDistinctValues=true&outSR=4326&f=json\n",
    "    2. This is the service for the case numbers per Landkreis on a detailed level without geometric data https://opendata.arcgis.com/datasets/dd4580c810204019a7b8eb3e0b329dd6_0.geojson\n",
    "    3. This is the service for the boundaries of the Bundesländer of 2019 without inhabitants\n",
    "    https://opendata.arcgis.com/datasets/9ae4f23075d340adb6580a6d9603f9fa_0.geojson\n",
    "    4. Inhabitants of Bundesländer https://services7.arcgis.com/mOBPykOjAyBO2ZKk/arcgis/rest/services/Coronaf%C3%A4lle_in_den_Bundesl%C3%A4ndern/FeatureServer/0/query?where=1%3D1&outFields=*&returnGeometry=false&outSR=4326&f=json"
   ]
  },
  {
   "cell_type": "code",
   "execution_count": null,
   "metadata": {},
   "outputs": [],
   "source": [
    "url1 = 'https://services7.arcgis.com/mOBPykOjAyBO2ZKk/arcgis/rest/services/RKI_Landkreisdaten/FeatureServer/0/query?where=1%3D1&outFields=*&returnDistinctValues=true&outSR=4326&f=json'\n",
    "r1 = requests.get(url1)\n",
    "jsonData1 = r1.json()\n",
    "r1.status_code"
   ]
  },
  {
   "cell_type": "code",
   "execution_count": null,
   "metadata": {},
   "outputs": [],
   "source": [
    "url2 = 'https://opendata.arcgis.com/datasets/dd4580c810204019a7b8eb3e0b329dd6_0.geojson'\n",
    "r2 = requests.get(url2)\n",
    "jsonData2 = r2.json()\n",
    "r2.status_code"
   ]
  },
  {
   "cell_type": "code",
   "execution_count": null,
   "metadata": {},
   "outputs": [],
   "source": [
    "url3 = 'https://opendata.arcgis.com/datasets/9ae4f23075d340adb6580a6d9603f9fa_0.geojson'\n",
    "r3 = requests.get(url3)\n",
    "jsonData3 = r3.json()\n",
    "r3.status_code"
   ]
  },
  {
   "cell_type": "code",
   "execution_count": null,
   "metadata": {},
   "outputs": [],
   "source": [
    "url4 = 'https://services7.arcgis.com/mOBPykOjAyBO2ZKk/arcgis/rest/services/Coronaf%C3%A4lle_in_den_Bundesl%C3%A4ndern/FeatureServer/0/query?where=1%3D1&outFields=*&returnGeometry=false&outSR=4326&f=json'\n",
    "r4 = requests.get(url4)\n",
    "jsonData4 = r4.json()\n",
    "r4.status_code"
   ]
  },
  {
   "cell_type": "code",
   "execution_count": null,
   "metadata": {
    "scrolled": true
   },
   "outputs": [],
   "source": [
    "jsonData1['features'][0]['attributes'].keys()"
   ]
  },
  {
   "cell_type": "code",
   "execution_count": null,
   "metadata": {},
   "outputs": [],
   "source": [
    "jsonData1['features'][0].keys()"
   ]
  },
  {
   "cell_type": "code",
   "execution_count": null,
   "metadata": {},
   "outputs": [],
   "source": [
    "jsonData1['features'][0]['geometry'].keys()"
   ]
  },
  {
   "cell_type": "code",
   "execution_count": null,
   "metadata": {},
   "outputs": [],
   "source": [
    "jsonData2['features'][0]['properties'].keys()"
   ]
  },
  {
   "cell_type": "code",
   "execution_count": null,
   "metadata": {},
   "outputs": [],
   "source": [
    "jsonData3['features'][0].keys()"
   ]
  },
  {
   "cell_type": "code",
   "execution_count": null,
   "metadata": {},
   "outputs": [],
   "source": [
    "jsonData3['features'][0]['properties'].keys()"
   ]
  },
  {
   "cell_type": "code",
   "execution_count": null,
   "metadata": {},
   "outputs": [],
   "source": [
    "jsonData4['features'][0]['attributes'].keys()"
   ]
  },
  {
   "cell_type": "code",
   "execution_count": null,
   "metadata": {},
   "outputs": [],
   "source": [
    "dataKeys = list(jsonData2['features'][0]['properties'].keys())\n",
    "all = (list (map (lambda y: (list(map (lambda x: y['properties'][x], dataKeys))), jsonData2['features'])))\n",
    "df = pd.DataFrame(all, columns=dataKeys)\n",
    "df.set_index('IdLandkreis', inplace = True)\n",
    "df.sort_values(by=['Altersgruppe', 'Geschlecht', 'IdLandkreis', 'Meldedatum', ], inplace = True)\n",
    "#df.to_excel(\"c:/tmp/output.xlsx\")  \n",
    "indexN = df['NeuerFall'] >= 0\n",
    "dfC= df[indexN]\n",
    "indexX = df['NeuerTodesfall'] >= 0\n",
    "dfX = df[indexX]\n",
    "print(\"Total Cases: \" + str(dfC['AnzahlFall'].sum()))\n",
    "print(\"Total Deaths: \" + str(dfX['AnzahlTodesfall'].sum()))"
   ]
  },
  {
   "cell_type": "code",
   "execution_count": null,
   "metadata": {},
   "outputs": [],
   "source": [
    "countiesGermanyGeojson = gj.FeatureCollection (list (map (lambda feature: gj.Feature(id = feature['attributes']['RS'], geometry = \n",
    "               gj.Polygon(feature['geometry']['rings'])), jsonData1['features'])))\n",
    "\n",
    "#with open('germany.json', 'w') as outfile:\n",
    "#    json.dump(countiesGermanyGeojson, outfile)\n",
    "    \n",
    "objectIds = list(map(lambda x: x['attributes']['RS'], jsonData1['features']))\n",
    "counties = list(map(lambda x: x['attributes']['county'], jsonData1['features']))\n",
    "cases = list(map(lambda x: x['attributes']['cases'], jsonData1['features']))\n",
    "deaths = list(map(lambda x: x['attributes']['deaths'], jsonData1['features']))\n",
    "casesPer100k = list(map(lambda x: x['attributes']['cases_per_100k'], jsonData1['features']))\n",
    "dfCases = pd.DataFrame.from_dict ({'lkid': objectIds, 'cases_per_100k' : casesPer100k, 'Counties': counties,\n",
    "                                  'Cases' : cases, 'Deaths': deaths})\n",
    "fig = px.choropleth_mapbox(dfCases, geojson=countiesGermanyGeojson, locations='lkid', color='cases_per_100k',\n",
    "                           #color_continuous_scale=\"Blues\",\n",
    "                           color_continuous_scale=[\"white\", \"blue\"],\n",
    "                           mapbox_style=\"carto-positron\", zoom = 5, center= {\"lat\": 51.0, \"lon\": 10.5},\n",
    "                           opacity = 0.5,\n",
    "                           hover_name=\"Counties\",\n",
    "                           hover_data =[\"Cases\", \"Deaths\"],\n",
    "                           labels={'cases_per_100k':'Cases per 100k'},\n",
    "                           width = 800,\n",
    "                           height = 800\n",
    "                          )\n",
    "fig.update_layout(margin={\"r\":0,\"t\":100,\"l\":0,\"b\":0}, title=('Covid-19 Cases in Germany as of ' + str(jsonData1['features'][0]['attributes']['last_update'])[0:10] + \n",
    "                                ': Cases: ' + str(dfCases.loc[:, \"Cases\"].sum()) + ', Deaths: ' + str(dfCases.loc[:, \"Deaths\"].sum())))            \n",
    "fig.show()"
   ]
  },
  {
   "cell_type": "code",
   "execution_count": null,
   "metadata": {},
   "outputs": [],
   "source": [
    "cases7Per100k = list(map(lambda x: x['attributes']['cases7_per_100k'], jsonData1['features']))\n",
    "countyCountZeroInfectionsLast7Days = cases7Per100k.count(0)\n",
    "print (str(countyCountZeroInfectionsLast7Days) + ' counties with zero infections in the last 7 days marked in green')\n",
    "dfCases = pd.DataFrame.from_dict ({'lkid': objectIds, 'cases_per_100k' : casesPer100k, 'cases7_per_100k' : cases7Per100k, 'Counties': counties,\n",
    "                                  'Cases' : cases, 'Deaths': deaths})\n",
    "fig = px.choropleth_mapbox(dfCases, geojson=countiesGermanyGeojson, locations='lkid', color='cases7_per_100k',\n",
    "                           color_continuous_scale=[[0.0, \"green\"], [10**(-6), \"green\"],[10**(-6), \"white\"], [0.5, \"blue\"], [0.5, \"red\"], [1.0, \"red\"]],\n",
    "                           color_continuous_midpoint = 50,\n",
    "                           #color_continuous_scale=[\"white\", \"blue\"],\n",
    "                           mapbox_style=\"carto-positron\", \n",
    "                           center= {\"lat\": 51.0, \"lon\": 10.5},\n",
    "                           opacity = 1.0,\n",
    "                           zoom = 5,\n",
    "                           hover_name=\"Counties\",\n",
    "                           hover_data =[\"Cases\", \"Deaths\", 'cases_per_100k'],\n",
    "                           labels={'cases_per_100k':'Cases per 100k', 'cases7_per_100k' : 'New Cases in the last seven 7 days per 100k'},\n",
    "                           width = 800,\n",
    "                           height = 800\n",
    "                          )\n",
    "fig.update_layout(margin={\"r\":0,\"t\":100,\"l\":0,\"b\":0}, title=('New Covid-19 Cases in the last 7 das Germany per County and 100k Inhabitants as of ' + str(jsonData1['features'][0]['attributes']['last_update'])[0:10] + \n",
    "                                ': Cases: ' + str(dfCases.loc[:, \"Cases\"].sum()) + ', Deaths: ' + str(dfCases.loc[:, \"Deaths\"].sum())))            \n",
    "fig.show()"
   ]
  },
  {
   "cell_type": "code",
   "execution_count": null,
   "metadata": {},
   "outputs": [],
   "source": [
    "\n",
    "#with open('countries.json', 'w') as outfile:\n",
    "#    json.dump(jsonData3, outfile)\n",
    "\n",
    "for feature in jsonData3['features']:\n",
    "    feature ['id'] = feature['properties']['FID'] \n",
    "\n",
    "\n",
    "\n",
    "casesBundesland = dfC.groupby('IdBundesland')['AnzahlFall'].sum().sort_index()\n",
    "deathsBundesland = dfX.groupby('IdBundesland')['AnzahlTodesfall'].sum().sort_index()\n",
    "namesBundesland = dfC.groupby('IdBundesland')['Bundesland'].first().sort_index()\n",
    "\n",
    "objectIds = list(map(lambda x: x['attributes']['OBJECTID_1'], jsonData4['features']))\n",
    "inhabitants = list(map(lambda x: x['attributes']['LAN_ew_EWZ'], jsonData4['features']))\n",
    "inhabitantsBundesland = pd.Series(inhabitants, index=objectIds).sort_index()\n",
    "casesPer100kBundesland = casesBundesland / inhabitantsBundesland * 100000\n",
    "\n",
    "dfCasesBundesland = pd.DataFrame.from_dict ({'IdBundesland': casesBundesland.index, 'Bundesland' : namesBundesland,\n",
    "                                             'Cases per 100k' : casesPer100kBundesland,\n",
    "                                             'Cases' : casesBundesland, 'Deaths': deathsBundesland})\n",
    "\n",
    "fig = px.choropleth_mapbox(dfCasesBundesland, geojson=jsonData3, locations='IdBundesland', color='Cases per 100k',\n",
    "                           #color_continuous_scale=\"Blues\",\n",
    "                           color_continuous_scale=[\"white\", \"blue\"],\n",
    "                           mapbox_style=\"carto-positron\", zoom = 5, center= {\"lat\": 51.0, \"lon\": 10.5},\n",
    "                           opacity = 0.5,\n",
    "                           hover_name=\"Bundesland\",\n",
    "                           hover_data =[\"Cases\", \"Deaths\"],\n",
    "                           width = 800,\n",
    "                           height = 800\n",
    "                          )\n",
    "fig.update_layout(margin={\"r\":0,\"t\":100,\"l\":0,\"b\":0}, title=('Covid-19 Cases in Germany as of ' + str(jsonData1['features'][0]['attributes']['last_update'])[0:10] + \n",
    "                                ': Cases: ' + str(dfCases.loc[:, \"Cases\"].sum()) + ', Deaths: ' + str(dfCases.loc[:, \"Deaths\"].sum())))            \n",
    "fig.show()"
   ]
  },
  {
   "cell_type": "code",
   "execution_count": null,
   "metadata": {},
   "outputs": [],
   "source": [
    "fig = px.histogram(dfX, x='Altersgruppe', y='AnzahlTodesfall', color='Geschlecht', histfunc='sum')\n",
    "fig.update_layout(title=('Covid-19 Deaths (Total: ' + str(dfX.loc[:,'AnzahlTodesfall'].sum()) + ') in Germany as of ' + dfX.loc[:, 'Meldedatum'].max()[0:10] + \n",
    "                         ' by Sex'))       \n",
    "fig.show()"
   ]
  },
  {
   "cell_type": "code",
   "execution_count": null,
   "metadata": {},
   "outputs": [],
   "source": [
    "county = '08416'\n",
    "dfCCounty = df.loc[county]\n",
    "fig = px.histogram(dfCCounty, x='Altersgruppe', y='AnzahlFall', color='Geschlecht', histfunc=\"sum\")\n",
    "fig.update_layout(title=('Covid-19 Cases (Total: ' + str(dfCCounty.loc[:,'AnzahlFall'].sum()) + ') in ' +\n",
    "                         str(dfCCounty['Landkreis'][0]) + \n",
    "                         ' as of ' + dfC.loc[:, 'Meldedatum'].max()[0:10] + \n",
    "                         ' by Sex'))   \n",
    "fig.show()"
   ]
  },
  {
   "cell_type": "code",
   "execution_count": null,
   "metadata": {},
   "outputs": [],
   "source": [
    "fig = px.histogram(dfC, x='Altersgruppe', y='AnzahlFall', color='Geschlecht', histfunc=\"sum\")\n",
    "fig.update_layout(title=('Covid-19 Cases (Total: ' + str(dfC.loc[:,'AnzahlFall'].sum()) + ') in Germany as of ' + dfC.loc[:, 'Meldedatum'].max()[0:10] + \n",
    "                         ' by Sex'))   \n",
    "fig.show()"
   ]
  },
  {
   "cell_type": "code",
   "execution_count": null,
   "metadata": {},
   "outputs": [],
   "source": [
    "fig = px.histogram(dfC, x='Bundesland', y='AnzahlFall', color='Altersgruppe', histfunc=\"sum\").update_xaxes(categoryorder=\"total descending\")\n",
    "fig.update_layout(title=('Covid-19 Cases (Total: ' + str(dfC.loc[:,'AnzahlFall'].sum()) + ') in Germany as of ' + dfC.loc[:, 'Meldedatum'].max()[0:10] + \n",
    "                         ' by Bundesland and Age'))   \n",
    "fig.show()"
   ]
  },
  {
   "cell_type": "code",
   "execution_count": null,
   "metadata": {},
   "outputs": [],
   "source": [
    "fig = px.histogram(dfX, x='Bundesland', y='AnzahlTodesfall', color='Altersgruppe', histfunc=\"sum\").update_xaxes(categoryorder=\"total descending\")\n",
    "fig.update_layout(title=('Covid-19 Deaths (Total: ' + str(dfX.loc[:,'AnzahlTodesfall'].sum()) + ') in Germany as of ' + dfX.loc[:, 'Meldedatum'].max()[0:10] + \n",
    "                         ' by Bundesland and Age'))   \n",
    "fig.show()"
   ]
  },
  {
   "cell_type": "code",
   "execution_count": null,
   "metadata": {
    "scrolled": true
   },
   "outputs": [],
   "source": [
    "fig = px.histogram(dfX, x='Geschlecht', y='AnzahlTodesfall', histfunc=\"sum\")\n",
    "fig.update_layout(title=('Covid-19 Deaths (Total: ' + str(dfX.loc[:,'AnzahlTodesfall'].sum()) + ') in Germany as of ' + dfX.loc[:, 'Meldedatum'].max()[0:10] + \n",
    "                         ' by Sex'))   \n",
    "fig.show()"
   ]
  },
  {
   "cell_type": "code",
   "execution_count": null,
   "metadata": {
    "scrolled": true
   },
   "outputs": [],
   "source": [
    "dfC.sort_values(by=['Meldedatum', 'Altersgruppe'], inplace = True)\n",
    "fig = px.histogram(dfC, x='Meldedatum', y='AnzahlFall', color='Altersgruppe', histfunc=\"sum\")\n",
    "fig.update_layout(title=('Covid-19 Cases (Total: ' + str(dfC.loc[:,'AnzahlFall'].sum()) + ') in Germany as of ' + dfC.loc[:, 'Meldedatum'].max()[0:10] + \n",
    "                         ' by Date and Age'))   \n",
    "fig.show()"
   ]
  },
  {
   "cell_type": "code",
   "execution_count": null,
   "metadata": {},
   "outputs": [],
   "source": [
    "dfC.sort_values(by=['Meldedatum', 'Altersgruppe'], inplace = True)\n",
    "fig = px.histogram(dfC, x='Meldedatum', y='AnzahlFall', color='NeuerFall', histfunc=\"sum\")\n",
    "fig.update_layout(title=('Covid-19 Cases (Total: ' + str(dfC.loc[:,'AnzahlFall'].sum()) + ') in Germany as of ' + dfC.loc[:, 'Meldedatum'].max()[0:10] + \n",
    "                         ' by new cases vs.existing cases'))   \n",
    "fig.show()"
   ]
  },
  {
   "cell_type": "code",
   "execution_count": null,
   "metadata": {
    "scrolled": false
   },
   "outputs": [],
   "source": [
    "rollingAvg = 7\n",
    "dfByDate = dfC.set_index('Meldedatum')\n",
    "dfByDate.sort_values(by=['Meldedatum'], inplace = True)\n",
    "totalPerDay = dfByDate.groupby(['Meldedatum'])['AnzahlFall'].sum()\n",
    "total = totalPerDay.cumsum()\n",
    "factor = 1 + totalPerDay / total\n",
    "growthFactor = factor.rolling(rollingAvg).mean()\n",
    "timeToDouble = np.log(2) / np.log(growthFactor)\n",
    "timeToDoubleRaw = np.log(2) / np.log(factor)\n",
    "fig = px.line(x = timeToDouble.keys(), y=timeToDouble, range_x=['2020-03-01', datetime.now().strftime('%Y-%m-%d')])\n",
    "fig.update_layout(title=('Covid-19 Time to Double Rolling Average' +\n",
    "                         str(rollingAvg) +' Days in Germany as of ' + \n",
    "                         dfX.loc[:, 'Meldedatum'].max()[0:10])) \n",
    "fig.show()"
   ]
  },
  {
   "cell_type": "code",
   "execution_count": null,
   "metadata": {},
   "outputs": [],
   "source": []
  },
  {
   "cell_type": "code",
   "execution_count": null,
   "metadata": {},
   "outputs": [],
   "source": [
    "fig = px.line(x = timeToDouble.keys(), y=timeToDoubleRaw, range_x=['2020-03-01', datetime.now().strftime('%Y-%m-%d')])\n",
    "fig.update_layout(title=('Covid-19 Time to Double Raw in Germany as of ' + \n",
    "                         dfX.loc[:, 'Meldedatum'].max()[0:10])) \n",
    "fig.show()"
   ]
  },
  {
   "cell_type": "code",
   "execution_count": null,
   "metadata": {},
   "outputs": [],
   "source": [
    "fig = px.line(x = growthFactor.keys(), y=growthFactor, range_x=['2020-03-01', datetime.now().strftime('%Y-%m-%d')])\n",
    "fig.update_layout(title=('Covid-19 Growth Factor in Germany as of ' + \n",
    "                         dfX.loc[:, 'Meldedatum'].max()[0:10])) \n",
    "fig.show()"
   ]
  },
  {
   "cell_type": "code",
   "execution_count": null,
   "metadata": {},
   "outputs": [],
   "source": [
    "fig = px.line(x = total.keys(), y=total)\n",
    "fig.update_layout(title=('Covid-19 Cases (Total: ' + str(dfC.loc[:,'AnzahlFall'].sum()) + ') in Germany as of ' + \n",
    "                         dfX.loc[:, 'Meldedatum'].max()[0:10])) \n",
    "fig.show()"
   ]
  },
  {
   "cell_type": "code",
   "execution_count": null,
   "metadata": {},
   "outputs": [],
   "source": [
    "dfX.sort_values(by=['Meldedatum'], inplace = True)\n",
    "fig = px.histogram(dfX, x='Meldedatum', y='AnzahlTodesfall',  color='Altersgruppe', histfunc=\"sum\")\n",
    "fig.update_layout(title=('Covid-19 Deaths (Total: ' + str(dfX.loc[:,'AnzahlTodesfall'].sum()) + ') in Germany as of ' + dfX.loc[:, 'Meldedatum'].max()[0:10] + \n",
    "                         ' by Date and Age')) \n",
    "fig.show()"
   ]
  }
 ],
 "metadata": {
  "kernelspec": {
   "display_name": "Python 3",
   "language": "python",
   "name": "python3"
  },
  "language_info": {
   "codemirror_mode": {
    "name": "ipython",
    "version": 3
   },
   "file_extension": ".py",
   "mimetype": "text/x-python",
   "name": "python",
   "nbconvert_exporter": "python",
   "pygments_lexer": "ipython3",
   "version": "3.8.2"
  }
 },
 "nbformat": 4,
 "nbformat_minor": 2
}
